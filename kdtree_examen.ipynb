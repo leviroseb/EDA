{
 "cells": [
  {
   "cell_type": "code",
   "execution_count": 2,
   "metadata": {},
   "outputs": [],
   "source": [
    "import random\n",
    "import math\n",
    "from PIL import Image\n",
    "import glob"
   ]
  },
  {
   "cell_type": "code",
   "execution_count": 3,
   "metadata": {},
   "outputs": [
    {
     "ename": "ModuleNotFoundError",
     "evalue": "No module named 'pandas'",
     "output_type": "error",
     "traceback": [
      "\u001b[1;31m---------------------------------------------------------------------------\u001b[0m",
      "\u001b[1;31mModuleNotFoundError\u001b[0m                       Traceback (most recent call last)",
      "\u001b[1;32m<ipython-input-3-be085989daa9>\u001b[0m in \u001b[0;36m<module>\u001b[1;34m\u001b[0m\n\u001b[0;32m      1\u001b[0m \u001b[1;32mimport\u001b[0m \u001b[0mnumpy\u001b[0m \u001b[1;32mas\u001b[0m \u001b[0mnp\u001b[0m \u001b[1;31m# linear algebra\u001b[0m\u001b[1;33m\u001b[0m\u001b[1;33m\u001b[0m\u001b[0m\n\u001b[1;32m----> 2\u001b[1;33m \u001b[1;32mimport\u001b[0m \u001b[0mpandas\u001b[0m \u001b[1;32mas\u001b[0m \u001b[0mpd\u001b[0m \u001b[1;31m# data processing, CSV file I/O (e.g. pd.read_csv)\u001b[0m\u001b[1;33m\u001b[0m\u001b[1;33m\u001b[0m\u001b[0m\n\u001b[0m\u001b[0;32m      3\u001b[0m \u001b[1;32mimport\u001b[0m \u001b[0mmatplotlib\u001b[0m\u001b[1;33m.\u001b[0m\u001b[0mpyplot\u001b[0m \u001b[1;32mas\u001b[0m \u001b[0mplt\u001b[0m \u001b[1;31m# for plotting and visualozing data\u001b[0m\u001b[1;33m\u001b[0m\u001b[1;33m\u001b[0m\u001b[0m\n",
      "\u001b[1;31mModuleNotFoundError\u001b[0m: No module named 'pandas'"
     ]
    }
   ],
   "source": [
    "import numpy as np # linear algebra\n",
    "import pandas as pd # data processing, CSV file I/O (e.g. pd.read_csv)\n",
    "import matplotlib.pyplot as plt # for plotting and visualozing data"
   ]
  },
  {
   "cell_type": "code",
   "execution_count": 4,
   "metadata": {},
   "outputs": [
    {
     "ename": "NameError",
     "evalue": "name 'pd' is not defined",
     "output_type": "error",
     "traceback": [
      "\u001b[1;31m---------------------------------------------------------------------------\u001b[0m",
      "\u001b[1;31mNameError\u001b[0m                                 Traceback (most recent call last)",
      "\u001b[1;32m<ipython-input-4-20227d7e1c54>\u001b[0m in \u001b[0;36m<module>\u001b[1;34m\u001b[0m\n\u001b[1;32m----> 1\u001b[1;33m \u001b[0mfruits\u001b[0m\u001b[1;33m=\u001b[0m\u001b[0mpd\u001b[0m\u001b[1;33m.\u001b[0m\u001b[0mread_table\u001b[0m\u001b[1;33m(\u001b[0m\u001b[1;34m'fruit_data_with_colors.txt'\u001b[0m\u001b[1;33m)\u001b[0m\u001b[1;33m\u001b[0m\u001b[1;33m\u001b[0m\u001b[0m\n\u001b[0m\u001b[0;32m      2\u001b[0m \u001b[0mpredct\u001b[0m \u001b[1;33m=\u001b[0m \u001b[0mdict\u001b[0m\u001b[1;33m(\u001b[0m\u001b[0mzip\u001b[0m\u001b[1;33m(\u001b[0m\u001b[0mfruits\u001b[0m\u001b[1;33m.\u001b[0m\u001b[0mfruit_label\u001b[0m\u001b[1;33m.\u001b[0m\u001b[0munique\u001b[0m\u001b[1;33m(\u001b[0m\u001b[1;33m)\u001b[0m\u001b[1;33m,\u001b[0m \u001b[0mfruits\u001b[0m\u001b[1;33m.\u001b[0m\u001b[0mfruit_name\u001b[0m\u001b[1;33m.\u001b[0m\u001b[0munique\u001b[0m\u001b[1;33m(\u001b[0m\u001b[1;33m)\u001b[0m\u001b[1;33m)\u001b[0m\u001b[1;33m)\u001b[0m\u001b[1;33m\u001b[0m\u001b[1;33m\u001b[0m\u001b[0m\n\u001b[0;32m      3\u001b[0m \u001b[0mpredct\u001b[0m\u001b[1;33m\u001b[0m\u001b[1;33m\u001b[0m\u001b[0m\n",
      "\u001b[1;31mNameError\u001b[0m: name 'pd' is not defined"
     ]
    }
   ],
   "source": [
    "fruits=pd.read_table('fruit_data_with_colors.txt')\n",
    "predct = dict(zip(fruits.fruit_label.unique(), fruits.fruit_name.unique()))   \n",
    "predct"
   ]
  },
  {
   "cell_type": "code",
   "execution_count": 4,
   "metadata": {},
   "outputs": [],
   "source": [
    "X=fruits[['mass','width','height']]\n",
    "Y=fruits['fruit_label']\n",
    "D1=fruits['mass']\n",
    "D2=fruits['width']\n",
    "D3=fruits['height']\n",
    "\n",
    "\n",
    "X=[D1,D2,D3,Y]\n",
    "Points=[]\n",
    "for i in range(57):\n",
    "    aux=(X[0][i],X[1][i],X[2][i],X[3][i])\n",
    "    Points.append(aux)\n"
   ]
  },
  {
   "cell_type": "code",
   "execution_count": 5,
   "metadata": {},
   "outputs": [],
   "source": [
    "X=Points\n",
    "#X.sort(key=lambda point: point[0])"
   ]
  },
  {
   "cell_type": "code",
   "execution_count": 1,
   "metadata": {},
   "outputs": [
    {
     "ename": "NameError",
     "evalue": "name 'X' is not defined",
     "output_type": "error",
     "traceback": [
      "\u001b[1;31m---------------------------------------------------------------------------\u001b[0m",
      "\u001b[1;31mNameError\u001b[0m                                 Traceback (most recent call last)",
      "\u001b[1;32m<ipython-input-1-1d13abe3c0a9>\u001b[0m in \u001b[0;36m<module>\u001b[1;34m\u001b[0m\n\u001b[0;32m      1\u001b[0m \u001b[1;32mfor\u001b[0m \u001b[0mi\u001b[0m \u001b[1;32min\u001b[0m \u001b[0mrange\u001b[0m \u001b[1;33m(\u001b[0m\u001b[1;36m15\u001b[0m\u001b[1;33m)\u001b[0m\u001b[1;33m:\u001b[0m\u001b[1;33m\u001b[0m\u001b[1;33m\u001b[0m\u001b[0m\n\u001b[1;32m----> 2\u001b[1;33m     \u001b[0mprint\u001b[0m\u001b[1;33m(\u001b[0m\u001b[0mX\u001b[0m\u001b[1;33m[\u001b[0m\u001b[0mi\u001b[0m\u001b[1;33m]\u001b[0m\u001b[1;33m)\u001b[0m\u001b[1;33m\u001b[0m\u001b[1;33m\u001b[0m\u001b[0m\n\u001b[0m\u001b[0;32m      3\u001b[0m \u001b[0mfruits\u001b[0m\u001b[1;33m.\u001b[0m\u001b[0mtail\u001b[0m\u001b[1;33m(\u001b[0m\u001b[1;33m)\u001b[0m\u001b[1;33m\u001b[0m\u001b[1;33m\u001b[0m\u001b[0m\n",
      "\u001b[1;31mNameError\u001b[0m: name 'X' is not defined"
     ]
    }
   ],
   "source": [
    "for i in range (15):\n",
    "    print(X[i])\n",
    "fruits.tail()\n"
   ]
  },
  {
   "cell_type": "code",
   "execution_count": 9,
   "metadata": {},
   "outputs": [
    {
     "name": "stdout",
     "output_type": "stream",
     "text": [
      "Result :  mandarin\n",
      "lemon\n",
      "lemon\n",
      "lemon\n",
      "mandarin\n",
      "mandarin\n",
      "mandarin\n",
      "mandarin\n",
      "mandarin\n",
      "lemon\n",
      "lemon\n"
     ]
    }
   ],
   "source": [
    "k = 3\n",
    "class Node:\n",
    "    def __init__(self,point,axis,clase):\n",
    "        self.point = point\n",
    "        self.left = None\n",
    "        self.right = None\n",
    "        self.axis = axis\n",
    "        self.clase = clase\n",
    "\n",
    "def getHeight(node):\n",
    "    if(node==None):\n",
    "        return 0\n",
    "    else:\n",
    "        return max(getHeight(node.left),getHeight(node.right)) + 1\n",
    "    \n",
    "#(0,1,2,3)\n",
    "\n",
    "def build_kdtree(points,depth=0):\n",
    "    n = len(points)\n",
    "    axis = depth % k\n",
    "    if(n<=0):\n",
    "        return None\n",
    "    if(n==1):\n",
    "        return Node(points[0],axis,points[0][k])\n",
    "    points.sort(key=lambda point: point[axis])\n",
    "    median = len(points)//2\n",
    "\n",
    "    node = Node(points[median],axis,points[median][k])\n",
    "    node.left = build_kdtree(points[:median],depth + 1)\n",
    "    node.right = build_kdtree(points[median+1:], depth + 1)\n",
    "    #print(\"build\")\n",
    "    return node\n",
    "\n",
    "def distanceSquared(point1,point2):\n",
    "    distance = 0\n",
    "    for i in range(k):\n",
    "        distance+=math.pow(point1[i]-point2[i],2)\n",
    "    return math.sqrt(distance)\n",
    "\n",
    "def order(queue):\n",
    "    for i in range (len(queue)):\n",
    "        j = i+1\n",
    "        for j in range (len(queue)):\n",
    "            if (queue[i][0]>queue[j][0]) :\n",
    "                temp=queue[i]\n",
    "                queue[i]=queue[j]\n",
    "                queue[j]=temp\n",
    "\n",
    "def priority_queue(queue,point,count):\n",
    "    if (len(queue)<count):\n",
    "        queue.append(point)\n",
    "        sorted(queue,key=lambda point: point[0])\n",
    "    else:\n",
    "        for i in range (len(queue)):\n",
    "            if (queue[i][0]>point[0]):\n",
    "                temp=queue[i]\n",
    "                queue[i]=point\n",
    "                point=temp\n",
    "\n",
    "def Knearest(node,point,k):\n",
    "    quever=[]\n",
    "    k_nearest_point(node,point,quever,k);\n",
    "    indices=[]\n",
    "    for i in range (len(quever)):\n",
    "        indices.append(quever[i][1])\n",
    "    clases= []\n",
    "    tipo=\"\"\n",
    "    for nodo in indices:\n",
    "        clase = nodo[3]\n",
    "        if clase == 1:\n",
    "            tipo=\"apple\"\n",
    "        if clase == 2:\n",
    "            tipo=\"mandarin\"\n",
    "        if clase == 3:\n",
    "            tipo=\"orange\"\n",
    "        if clase == 4:\n",
    "            tipo=\"lemon\"\n",
    "        clases.append(tipo)\n",
    "    return clases\n",
    "\n",
    "def k_nearest_point( node , point , queue, k):\n",
    "    if ( node == None ):\n",
    "        return\n",
    "    axis = node.axis\n",
    "    dist=distanceSquared(point,node.point)\n",
    "    priority_queue(queue,[dist,node.point],k)\n",
    "    next_branch = None\n",
    "    opposite_branch = None\n",
    "    if (point[axis]<node.point[axis]):\n",
    "        next_branch=node.left\n",
    "        opposite_branch=node.right\n",
    "    else:\n",
    "        next_branch=node.right\n",
    "        opposite_branch=node.left\n",
    "    k_nearest_point(next_branch,point,queue,k)\n",
    "    if(len(queue)<k or queue[0][0]>abs(point[axis]-node.point[axis])):\n",
    "        k_nearest_point(opposite_branch,point,queue,k)\n",
    "        \n",
    "def most_frequent(List): \n",
    "    return max(set(List), key = List.count)\n",
    "\"\"\"\n",
    "image_list = []\n",
    "\n",
    "def most_frequent(List): \n",
    "    return max(set(List), key = List.count)\n",
    "\n",
    "def cargar(carpeta,tipo):\n",
    "for filename in glob.glob(carpeta+'*.png'):\n",
    "imge = Image.open(filename).convert('RGB')\n",
    "arr1 = np.array(imge)\n",
    "flat_arr = arr1.ravel()\n",
    "arr2=np.append(flat_arr,tipo)\n",
    "image_list.append(arr2)\n",
    "\n",
    "\n",
    "cargar('train/Bug/',1)\n",
    "cargar('train/Water/',2)\n",
    "cargar('train/Fire/',3)\n",
    "cargar('train/Grass/',4)\n",
    "cargar('train/Rock/',5)\n",
    "cargar('train/Electric/',6)\n",
    "cargar('train/Ghost/',7)\n",
    "\"\"\"\n",
    "\n",
    "kdtree=build_kdtree(X)\n",
    "\n",
    "\"\"\"\n",
    "while True:\n",
    "n = input(\"Ingresa imagen:\")\n",
    "if n == \"salir\":\n",
    "    break\n",
    "img = Image.open('train/'+n).convert('RGB')\n",
    "arr = np.array(img)\n",
    "arr1= arr.ravel()\n",
    "\"\"\"\n",
    "\n",
    "queue=Knearest(kdtree,X[0],10)\n",
    "\n",
    "print(\"Result : \",most_frequent(queue))\n",
    "\n",
    "for i in queue:\n",
    "    print(i)"
   ]
  },
  {
   "cell_type": "code",
   "execution_count": null,
   "metadata": {},
   "outputs": [],
   "source": []
  },
  {
   "cell_type": "code",
   "execution_count": null,
   "metadata": {},
   "outputs": [],
   "source": []
  },
  {
   "cell_type": "code",
   "execution_count": null,
   "metadata": {},
   "outputs": [],
   "source": []
  }
 ],
 "metadata": {
  "kernelspec": {
   "display_name": "Python 3",
   "language": "python",
   "name": "python3"
  },
  "language_info": {
   "codemirror_mode": {
    "name": "ipython",
    "version": 3
   },
   "file_extension": ".py",
   "mimetype": "text/x-python",
   "name": "python",
   "nbconvert_exporter": "python",
   "pygments_lexer": "ipython3",
   "version": "3.8.6"
  }
 },
 "nbformat": 4,
 "nbformat_minor": 4
}
